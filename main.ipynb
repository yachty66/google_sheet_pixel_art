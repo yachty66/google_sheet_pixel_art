{
 "cells": [
  {
   "cell_type": "code",
   "execution_count": 1,
   "metadata": {},
   "outputs": [],
   "source": [
    "import gspread\n",
    "from oauth2client.service_account import ServiceAccountCredentials\n",
    "\n",
    "\n",
    "scope = [\n",
    "    \"https://spreadsheets.google.com/feeds\",\n",
    "    \"https://www.googleapis.com/auth/drive\",\n",
    "]\n",
    "creds = ServiceAccountCredentials.from_json_keyfile_name(\"google.json\", scope)\n",
    "client = gspread.authorize(creds)\n",
    "\n",
    "sheet = client.open(\"pixel_art\").sheet1"
   ]
  },
  {
   "cell_type": "code",
   "execution_count": 2,
   "metadata": {},
   "outputs": [
    {
     "name": "stderr",
     "output_type": "stream",
     "text": [
      "/var/folders/c6/3mg81wmx3_gc53f8td20nlk40000gn/T/ipykernel_30396/3621274189.py:6: DeprecationWarning: [Deprecated][in version 6.0.0]: Method signature's arguments 'range_name' and 'values' will change their order. We recommend using named arguments for minimal impact. In addition, the argument 'values' will be mandatory of type: 'List[List]'. (ex) Worksheet.update(values = [[]], range_name=) \n",
      "  sheet.update('A1', data)\n"
     ]
    },
    {
     "data": {
      "text/plain": [
       "{'spreadsheetId': '1x2zKsCR6bnkQSiGkQlufR59OeitWe7xpXVDo3yULaBc',\n",
       " 'updatedRange': 'Sheet1!A1:CV100',\n",
       " 'updatedRows': 100,\n",
       " 'updatedColumns': 100,\n",
       " 'updatedCells': 10000}"
      ]
     },
     "execution_count": 2,
     "metadata": {},
     "output_type": "execute_result"
    }
   ],
   "source": [
    "num_rows = 100\n",
    "num_cols = 100\n",
    "data = [[\"0\"] * num_cols for _ in range(num_rows)]\n",
    "\n",
    "# Update the sheet with the new data\n",
    "sheet.update('A1', data)"
   ]
  },
  {
   "cell_type": "code",
   "execution_count": 4,
   "metadata": {},
   "outputs": [
    {
     "name": "stderr",
     "output_type": "stream",
     "text": [
      "/var/folders/c6/3mg81wmx3_gc53f8td20nlk40000gn/T/ipykernel_30396/3592182089.py:35: DeprecationWarning: [Deprecated][in version 6.0.0]: Method signature's arguments 'range_name' and 'values' will change their order. We recommend using named arguments for minimal impact. In addition, the argument 'values' will be mandatory of type: 'List[List]'. (ex) Worksheet.update(values = [[]], range_name=) \n",
      "  sheet.update(cell_range, pixel_matrix_str)\n"
     ]
    },
    {
     "data": {
      "text/plain": [
       "{'spreadsheetId': '1x2zKsCR6bnkQSiGkQlufR59OeitWe7xpXVDo3yULaBc',\n",
       " 'updatedRange': 'Sheet1!A1:AKN549',\n",
       " 'updatedRows': 549,\n",
       " 'updatedColumns': 976,\n",
       " 'updatedCells': 535824}"
      ]
     },
     "execution_count": 4,
     "metadata": {},
     "output_type": "execute_result"
    }
   ],
   "source": [
    "from PIL import Image\n",
    "import gspread\n",
    "from oauth2client.service_account import ServiceAccountCredentials\n",
    "\n",
    "# Function to convert column index to A1 notation\n",
    "def col_to_a1(col):\n",
    "    result = \"\"\n",
    "    while col > 0:\n",
    "        col, remainder = divmod(col - 1, 26)\n",
    "        result = chr(65 + remainder) + result\n",
    "    return result\n",
    "\n",
    "# Authenticate with Google Sheets\n",
    "scope = [\"https://spreadsheets.google.com/feeds\", \"https://www.googleapis.com/auth/drive\"]\n",
    "creds = ServiceAccountCredentials.from_json_keyfile_name('google.json', scope)\n",
    "client = gspread.authorize(creds)\n",
    "\n",
    "# Open the Google Sheet\n",
    "sheet = client.open(\"pixel_art\").sheet1\n",
    "\n",
    "# Open the image and convert to grayscale\n",
    "image = Image.open(\"image.jpg\").convert(\"L\")\n",
    "pixels = list(image.getdata())\n",
    "width, height = image.size\n",
    "\n",
    "# Reshape the pixel data to match the image dimensions\n",
    "pixel_matrix = [pixels[i * width:(i + 1) * width] for i in range(height)]\n",
    "\n",
    "# Convert pixel values to strings\n",
    "pixel_matrix_str = [[str(pixel) for pixel in row] for row in pixel_matrix]\n",
    "\n",
    "# Update the sheet with the pixel data\n",
    "end_col = col_to_a1(width)\n",
    "cell_range = f'A1:{end_col}{height}'\n",
    "sheet.update(cell_range, pixel_matrix_str)"
   ]
  },
  {
   "cell_type": "code",
   "execution_count": 7,
   "metadata": {},
   "outputs": [
    {
     "data": {
      "text/plain": [
       "{'spreadsheetId': '1x2zKsCR6bnkQSiGkQlufR59OeitWe7xpXVDo3yULaBc',\n",
       " 'clearedRange': 'Sheet1!A1:AKN1000'}"
      ]
     },
     "execution_count": 7,
     "metadata": {},
     "output_type": "execute_result"
    }
   ],
   "source": [
    "sheet.clear()\n"
   ]
  },
  {
   "cell_type": "code",
   "execution_count": 9,
   "metadata": {},
   "outputs": [
    {
     "data": {
      "text/plain": [
       "{'spreadsheetId': '1x2zKsCR6bnkQSiGkQlufR59OeitWe7xpXVDo3yULaBc',\n",
       " 'replies': [{}]}"
      ]
     },
     "execution_count": 9,
     "metadata": {},
     "output_type": "execute_result"
    }
   ],
   "source": [
    "sheet = client.open(\"pixel_art\").sheet1\n",
    "sheet.format('A1:AKN1000', {\n",
    "    \"backgroundColor\": {\n",
    "        \"red\": 1.0,\n",
    "        \"green\": 1.0,\n",
    "        \"blue\": 1.0\n",
    "    }\n",
    "})\n"
   ]
  },
  {
   "cell_type": "code",
   "execution_count": 11,
   "metadata": {},
   "outputs": [],
   "source": [
    "import gspread\n",
    "from oauth2client.service_account import ServiceAccountCredentials\n",
    "from PIL import Image\n",
    "import numpy as np\n",
    "\n",
    "def resize_image(image_path, new_width, new_height):\n",
    "    img = Image.open(image_path)\n",
    "    img = img.resize((new_width, new_height), Image.NEAREST)\n",
    "    return img\n",
    "\n",
    "def rgb_to_hex(rgb):\n",
    "    return '#{:02x}{:02x}{:02x}'.format(rgb[0], rgb[1], rgb[2])\n",
    "\n",
    "def update_sheet_with_pixel_art(image_path, sheet_name, credentials_path, new_width, new_height):\n",
    "    # Resize image\n",
    "    img = resize_image(image_path, new_width, new_height)\n",
    "    \n",
    "    # Convert image to numpy array\n",
    "    img_array = np.array(img)\n",
    "\n",
    "    # Authenticate with Google Sheets\n",
    "    scope = ['https://spreadsheets.google.com/feeds', 'https://www.googleapis.com/auth/drive']\n",
    "    creds = ServiceAccountCredentials.from_json_keyfile_name(credentials_path, scope)\n",
    "    client = gspread.authorize(creds)\n",
    "\n",
    "    # Open the sheet\n",
    "    sheet = client.open(sheet_name).sheet1\n",
    "\n",
    "    # Prepare batch update request\n",
    "    requests = []\n",
    "\n",
    "    # Clear existing content\n",
    "    requests.append({\n",
    "        'updateCells': {\n",
    "            'range': {\n",
    "                'sheetId': sheet.id,\n",
    "                'startRowIndex': 0,\n",
    "                'endRowIndex': new_height,\n",
    "                'startColumnIndex': 0,\n",
    "                'endColumnIndex': new_width\n",
    "            },\n",
    "            'fields': 'userEnteredValue,userEnteredFormat.backgroundColor'\n",
    "        }\n",
    "    })\n",
    "\n",
    "    # Update cell colors\n",
    "    for y in range(new_height):\n",
    "        for x in range(new_width):\n",
    "            color = img_array[y, x]\n",
    "            requests.append({\n",
    "                'updateCells': {\n",
    "                    'rows': [{\n",
    "                        'values': [{\n",
    "                            'userEnteredFormat': {\n",
    "                                'backgroundColor': {\n",
    "                                    'red': color[0] / 255,\n",
    "                                    'green': color[1] / 255,\n",
    "                                    'blue': color[2] / 255\n",
    "                                }\n",
    "                            }\n",
    "                        }]\n",
    "                    }],\n",
    "                    'fields': 'userEnteredFormat.backgroundColor',\n",
    "                    'range': {\n",
    "                        'sheetId': sheet.id,\n",
    "                        'startRowIndex': y,\n",
    "                        'endRowIndex': y + 1,\n",
    "                        'startColumnIndex': x,\n",
    "                        'endColumnIndex': x + 1\n",
    "                    }\n",
    "                }\n",
    "            })\n",
    "\n",
    "    # Adjust column widths to make cells square\n",
    "    requests.append({\n",
    "        'updateDimensionProperties': {\n",
    "            'range': {\n",
    "                'sheetId': sheet.id,\n",
    "                'dimension': 'COLUMNS',\n",
    "                'startIndex': 0,\n",
    "                'endIndex': new_width\n",
    "            },\n",
    "            'properties': {\n",
    "                'pixelSize': 3\n",
    "            },\n",
    "            'fields': 'pixelSize'\n",
    "        }\n",
    "    })\n",
    "\n",
    "    # Execute batch update\n",
    "    body = {'requests': requests}\n",
    "    sheet.spreadsheet.batch_update(body)\n",
    "\n",
    "# Usage\n",
    "image_path = 'image.jpg'\n",
    "sheet_name = 'pixel_art'\n",
    "credentials_path = 'google.json'\n",
    "new_width = 100  # Adjust these values based on your preference\n",
    "new_height = 56  # Maintain aspect ratio: 56 ≈ (549/976) * 100\n",
    "\n",
    "update_sheet_with_pixel_art(image_path, sheet_name, credentials_path, new_width, new_height)"
   ]
  },
  {
   "cell_type": "code",
   "execution_count": null,
   "metadata": {},
   "outputs": [],
   "source": []
  }
 ],
 "metadata": {
  "kernelspec": {
   "display_name": "base",
   "language": "python",
   "name": "python3"
  },
  "language_info": {
   "codemirror_mode": {
    "name": "ipython",
    "version": 3
   },
   "file_extension": ".py",
   "mimetype": "text/x-python",
   "name": "python",
   "nbconvert_exporter": "python",
   "pygments_lexer": "ipython3",
   "version": "3.11.7"
  }
 },
 "nbformat": 4,
 "nbformat_minor": 2
}
